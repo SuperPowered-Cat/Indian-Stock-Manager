{
 "cells": [
  {
   "cell_type": "code",
   "execution_count": 16,
   "id": "66702151-0059-4a3e-a968-5c7d5dadcac7",
   "metadata": {},
   "outputs": [
    {
     "name": "stdout",
     "output_type": "stream",
     "text": [
      "Processing C:\\Users\\KIIT\\ML Python\\Qlib Stock\\qlib\\data\\india_csv2\\HDFCBANK.csv ...\n",
      "Fixed and saved HDFCBANK.csv.\n",
      "\n",
      "Processing C:\\Users\\KIIT\\ML Python\\Qlib Stock\\qlib\\data\\india_csv2\\INFY.csv ...\n",
      "Fixed and saved INFY.csv.\n",
      "\n",
      "Processing C:\\Users\\KIIT\\ML Python\\Qlib Stock\\qlib\\data\\india_csv2\\NIFTY50.csv ...\n",
      "Fixed and saved NIFTY50.csv.\n",
      "\n",
      "Processing C:\\Users\\KIIT\\ML Python\\Qlib Stock\\qlib\\data\\india_csv2\\RELIANCE.csv ...\n",
      "Fixed and saved RELIANCE.csv.\n",
      "\n",
      "Processing C:\\Users\\KIIT\\ML Python\\Qlib Stock\\qlib\\data\\india_csv2\\TCS.csv ...\n",
      "Fixed and saved TCS.csv.\n",
      "\n",
      "All CSV files have been processed.\n"
     ]
    }
   ],
   "source": [
    "import os\n",
    "import pandas as pd\n",
    "\n",
    "# Path to the folder containing your CSV files\n",
    "csv_folder = r\"C:\\Users\\KIIT\\ML Python\\Qlib Stock\\qlib\\data\\india_csv2\"\n",
    "\n",
    "for filename in os.listdir(csv_folder):\n",
    "    if filename.endswith(\".csv\"):\n",
    "        file_path = os.path.join(csv_folder, filename)\n",
    "        print(f\"Processing {file_path} ...\")\n",
    "\n",
    "        # 1. Read the CSV, skipping row index 1 and 2 (the second and third row).\n",
    "        #    Row 0 (the header) remains, so columns will be read from that row.\n",
    "        df = pd.read_csv(file_path, skiprows=[1, 2])\n",
    "\n",
    "        # 2. Rename the first column from \"Price\" to \"Date\"\n",
    "        if \"Price\" in df.columns:\n",
    "            df.rename(columns={\"Price\": \"Date\"}, inplace=True)\n",
    "\n",
    "        # 3. Save the result back to the CSV without an index.\n",
    "        df.to_csv(file_path, index=False)\n",
    "        print(f\"Fixed and saved {filename}.\\n\")\n",
    "\n",
    "print(\"All CSV files have been processed.\")\n"
   ]
  },
  {
   "cell_type": "code",
   "execution_count": null,
   "id": "4c3c78af-bd97-4b24-9fff-db992e5061c3",
   "metadata": {},
   "outputs": [],
   "source": []
  }
 ],
 "metadata": {
  "kernelspec": {
   "display_name": "Python 3 (ipykernel)",
   "language": "python",
   "name": "python3"
  },
  "language_info": {
   "codemirror_mode": {
    "name": "ipython",
    "version": 3
   },
   "file_extension": ".py",
   "mimetype": "text/x-python",
   "name": "python",
   "nbconvert_exporter": "python",
   "pygments_lexer": "ipython3",
   "version": "3.9.13"
  }
 },
 "nbformat": 4,
 "nbformat_minor": 5
}
